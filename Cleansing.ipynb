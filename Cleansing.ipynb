{
 "cells": [
  {
   "cell_type": "markdown",
   "metadata": {},
   "source": [
    "## Flights and Domestic Airlines \n",
    "Providing the best recommendations for domestic travel in the U.S. In our general applications we are using 2015 data to determine delay information and predict which airlines contains the best flights. \n",
    "\n",
    "We are also determining if the weather that day was the reason for the flight cancellation or weather the airline was at fault.\n",
    "\n",
    "Finally with flight. We are looking into Hotel Recommendations and determining the best hotels domestically based on reviews.\n"
   ]
  },
  {
   "cell_type": "code",
   "execution_count": 5,
   "metadata": {},
   "outputs": [],
   "source": [
    "import pandas as pd; import numpy as np, os"
   ]
  },
  {
   "cell_type": "code",
   "execution_count": 13,
   "metadata": {},
   "outputs": [
    {
     "name": "stdout",
     "output_type": "stream",
     "text": [
      "<class 'pandas.core.frame.DataFrame'>\n",
      "RangeIndex: 14 entries, 0 to 13\n",
      "Data columns (total 2 columns):\n",
      "IATA_CODE    14 non-null object\n",
      "AIRLINE      14 non-null object\n",
      "dtypes: object(2)\n",
      "memory usage: 152.0+ bytes\n"
     ]
    }
   ],
   "source": [
    "# Get Flight Delay information and cleanse the data for missing values\n",
    "\n",
    "# Airports CSV\n",
    "airport_info = pd.read_csv(\"airports.csv\", sep = \",\")\n",
    "\n",
    "# Airlines CSV\n",
    "airlines_info = pd.read_csv(\"airlines.csv\", sep = \",\")\n",
    "airlines_info.info()"
   ]
  },
  {
   "cell_type": "code",
   "execution_count": null,
   "metadata": {},
   "outputs": [],
   "source": [
    "# Flight information (1157049 Rows)\n",
    "chunksize = 500\n",
    "for chunk in pd.read_csv(\"flights.csv\", sep= \",\", chunksize=chunksize): # read in chunk sizes\n",
    "    chunk"
   ]
  },
  {
   "cell_type": "code",
   "execution_count": null,
   "metadata": {},
   "outputs": [],
   "source": []
  },
  {
   "cell_type": "code",
   "execution_count": null,
   "metadata": {},
   "outputs": [],
   "source": []
  }
 ],
 "metadata": {
  "kernelspec": {
   "display_name": "Python 3",
   "language": "python",
   "name": "python3"
  },
  "language_info": {
   "codemirror_mode": {
    "name": "ipython",
    "version": 3
   },
   "file_extension": ".py",
   "mimetype": "text/x-python",
   "name": "python",
   "nbconvert_exporter": "python",
   "pygments_lexer": "ipython3",
   "version": "3.7.0"
  }
 },
 "nbformat": 4,
 "nbformat_minor": 2
}
